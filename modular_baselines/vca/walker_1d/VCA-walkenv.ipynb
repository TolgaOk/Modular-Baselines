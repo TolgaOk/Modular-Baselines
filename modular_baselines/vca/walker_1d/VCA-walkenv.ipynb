{
 "cells": [
  {
   "cell_type": "code",
   "execution_count": null,
   "metadata": {},
   "outputs": [],
   "source": [
    "%load_ext autoreload\n",
    "%autoreload 2\n",
    "\n",
    "import torch\n",
    "import numpy as np\n",
    "import os\n",
    "import json\n",
    "import datetime\n",
    "from collections import namedtuple\n",
    "\n",
    "from stable_baselines3.common.vec_env.subproc_vec_env import SubprocVecEnv\n",
    "from stable_baselines3.common.env_util import make_vec_env\n",
    "\n",
    "from modular_baselines.loggers.basic import(InitLogCallback,\n",
    "                                            LogRolloutCallback,\n",
    "                                            LogWeightCallback,\n",
    "                                            LogGradCallback)\n",
    "\n",
    "from modular_baselines.vca.algorithm import DiscerteStateVCA\n",
    "from modular_baselines.vca.buffer import Buffer\n",
    "from modular_baselines.vca.collector import NStepCollector\n",
    "from modular_baselines.vca.modules import (CategoricalPolicyModule,\n",
    "                     CategoricalTransitionModule,\n",
    "                     CategoricalRewardModule)\n",
    "from environment import WalkEnv\n"
   ]
  },
  {
   "cell_type": "code",
   "execution_count": null,
   "metadata": {},
   "outputs": [],
   "source": [
    "now = datetime.datetime.now().strftime(\"%m-%d-%Y-%H-%M-%S\")\n",
    "args = dict(\n",
    "    state_size = 11,\n",
    "    buffer_size = 500,\n",
    "    policy_hidden_size = 16,\n",
    "    policy_tau = 1,\n",
    "    transition_hidden_size = 16,\n",
    "    transition_module_tau = 1,\n",
    "    reward_set = [-1, 0, 1],\n",
    "    reward_hidden_size = 16,\n",
    "    reward_module_tau = 1,\n",
    "    batchsize = 32,\n",
    "    entropy_coef = 0.01,\n",
    "    rollout_len=5,\n",
    "    total_timesteps=int(1e4),\n",
    "    device=\"cpu\",\n",
    "    log_interval=100,\n",
    "    trans_lr=1e-3,\n",
    "    policy_lr=1e-2,\n",
    "    reward_lr=1e-3,\n",
    "    log_dir=\"logs/{}\".format(now)\n",
    ")\n",
    "args = namedtuple(\"Args\", args.keys())(*args.values())"
   ]
  },
  {
   "cell_type": "code",
   "execution_count": null,
   "metadata": {},
   "outputs": [],
   "source": [
    "env = WalkEnv(args.state_size)\n",
    "vecenv = make_vec_env(lambda: WalkEnv(args.state_size))\n",
    "\n",
    "rollout_callback = LogRolloutCallback()\n",
    "init_callback = InitLogCallback(args.log_interval,\n",
    "                                args.log_dir)\n",
    "weight_callback = LogWeightCallback(\"weights.json\")\n",
    "grad_callback = LogGradCallback(\"grads.json\")\n",
    "\n",
    "buffer = Buffer(\n",
    "    args.buffer_size,\n",
    "    vecenv.observation_space,\n",
    "    vecenv.action_space)\n",
    "\n",
    "policy_m = CategoricalPolicyModule(\n",
    "    vecenv.observation_space.n,\n",
    "    vecenv.action_space.n,\n",
    "    args.policy_hidden_size,\n",
    "    tau=args.policy_tau)\n",
    "trans_m = CategoricalTransitionModule(\n",
    "    vecenv.observation_space.n,\n",
    "    vecenv.action_space.n,\n",
    "    state_set=torch.from_numpy(env.state_set),\n",
    "    hidden_size=args.transition_hidden_size,\n",
    "    tau=args.transition_module_tau)\n",
    "reward_m = CategoricalRewardModule(\n",
    "    vecenv.observation_space.n,\n",
    "    env.reward_set,\n",
    "    args.reward_hidden_size,\n",
    "    tau=args.reward_module_tau)\n",
    "\n",
    "collector = NStepCollector(\n",
    "    env=vecenv,\n",
    "    buffer=buffer,\n",
    "    policy=policy_m,\n",
    "    callbacks=[rollout_callback])\n",
    "algorithm = DiscerteStateVCA(\n",
    "    policy_module=policy_m,\n",
    "    transition_module=trans_m,\n",
    "    reward_module=reward_m,\n",
    "    buffer=buffer,\n",
    "    collector=collector,\n",
    "    env=vecenv,\n",
    "    rollout_len=args.rollout_len,\n",
    "    trans_opt=torch.optim.RMSprop(trans_m.parameters(), lr=args.trans_lr),\n",
    "    policy_opt=torch.optim.RMSprop(policy_m.parameters(), lr=args.policy_lr),\n",
    "    reward_opt=torch.optim.RMSprop(reward_m.parameters(), lr=args.reward_lr),\n",
    "    batch_size=args.batchsize,\n",
    "    entropy_coef=args.entropy_coef,\n",
    "    device=args.device,\n",
    "    callbacks=[init_callback, weight_callback, grad_callback]\n",
    ")"
   ]
  },
  {
   "cell_type": "code",
   "execution_count": null,
   "metadata": {},
   "outputs": [],
   "source": [
    "algorithm.learn(args.total_timesteps)"
   ]
  },
  {
   "cell_type": "code",
   "execution_count": null,
   "metadata": {},
   "outputs": [],
   "source": [
    "from visualizers.visualize import render_layout\n",
    "\n",
    "render_layout(\n",
    "    log_dir=\"logs/{}\".format(now),\n",
    "    layout=[[\"S\", \"S\"], [\"H\", \"H\"]]\n",
    ")"
   ]
  },
  {
   "cell_type": "code",
   "execution_count": null,
   "metadata": {},
   "outputs": [],
   "source": []
  }
 ],
 "metadata": {
  "kernelspec": {
   "display_name": "Python 3",
   "language": "python",
   "name": "python3"
  },
  "language_info": {
   "codemirror_mode": {
    "name": "ipython",
    "version": 3
   },
   "file_extension": ".py",
   "mimetype": "text/x-python",
   "name": "python",
   "nbconvert_exporter": "python",
   "pygments_lexer": "ipython3",
   "version": "3.8.3"
  }
 },
 "nbformat": 4,
 "nbformat_minor": 4
}
