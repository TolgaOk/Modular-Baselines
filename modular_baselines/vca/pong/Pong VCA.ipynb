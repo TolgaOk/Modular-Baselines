{
 "cells": [
  {
   "cell_type": "raw",
   "metadata": {},
   "source": [
    "$$\\    $$\\  $$$$$$\\   $$$$$$\\  \n",
    "$$ |   $$ |$$  __$$\\ $$  __$$\\ \n",
    "$$ |   $$ |$$ /  \\__|$$ /  $$ |\n",
    "\\$$\\  $$  |$$ |      $$$$$$$$ |\n",
    " \\$$\\$$  / $$ |      $$  __$$ |\n",
    "  \\$$$  /  $$ |  $$\\ $$ |  $$ |\n",
    "   \\$  /   \\$$$$$$  |$$ |  $$ |\n",
    "    \\_/     \\______/ \\__|  \\__|"
   ]
  },
  {
   "cell_type": "code",
   "execution_count": null,
   "metadata": {},
   "outputs": [],
   "source": [
    "%load_ext autoreload\n",
    "%autoreload 2\n",
    "\n",
    "import argparse\n",
    "import numpy as np\n",
    "import torch\n",
    "import os\n",
    "import time\n",
    "import math\n",
    "import matplotlib.pyplot as plt\n",
    "\n",
    "from run import PongRunner, default_args\n",
    "from environment import PongEnv\n",
    "from visualizers.visualize import render_layout\n",
    "from modular_baselines.vca.algorithm import GradNormalizer\n",
    "\n",
    "parser = argparse.ArgumentParser(description=\"Interactive Pong VCA\")\n",
    "default_args(parser)                        "
   ]
  },
  {
   "cell_type": "code",
   "execution_count": null,
   "metadata": {},
   "outputs": [],
   "source": [
    "args = {\n",
    " \"buffer_size\": 100000,\n",
    " \"batchsize\": 32,\n",
    " \"rollout_len\": 10,\n",
    " \"total_timesteps\": 30000,\n",
    " \"entropy_coef\": 0.0003,\n",
    " \"use_gumbel\": False,\n",
    " \"grad_norm\": False,\n",
    " \"policy_hidden_size\": 64,\n",
    " \"transition_hidden_size\": 64,\n",
    " \"policy_tau\": 1,\n",
    " \"policy_lr\": 0.003,\n",
    " \"trans_lr\": 0.001,\n",
    " \"device\": \"cpu\",\n",
    " \"log_interval\": 245,\n",
    " \"eval_interval\": 49,\n",
    " \"trans_weight_decay\": 0.1,\n",
    " \"seed\": None,\n",
    " \"log_dir\": \"logs/\"}"
   ]
  },
  {
   "cell_type": "code",
   "execution_count": null,
   "metadata": {
    "scrolled": false
   },
   "outputs": [],
   "source": [
    "if args[\"seed\"] is None:\n",
    "    args[\"seed\"] = np.random.randint(0, 2**20)\n",
    "\n",
    "runner = PongRunner(args)\n",
    "args[\"log_dir\"] = os.path.join(args[\"log_dir\"], runner.log_dir_prefix)\n",
    "\n",
    "algorithm = runner.algo_generator(args)\n",
    "algorithm.learn(args[\"total_timesteps\"])"
   ]
  },
  {
   "cell_type": "code",
   "execution_count": null,
   "metadata": {},
   "outputs": [],
   "source": [
    "env = PongEnv()\n",
    "FPS = 30\n",
    "env.make_figure()"
   ]
  },
  {
   "cell_type": "code",
   "execution_count": null,
   "metadata": {},
   "outputs": [],
   "source": [
    "def to_torch(state):\n",
    "    return torch.from_numpy(state).unsqueeze(0)\n",
    "\n",
    "def episode_grad(random_act=False, render=True):\n",
    "    r_state_list = []\n",
    "    r_action_list = []\n",
    "    reward_list = []\n",
    "    transition_mae = []\n",
    "    action_logits = []\n",
    "    \n",
    "    state = env.reset()\n",
    "    state = to_torch(state)\n",
    "    state.requires_grad = True\n",
    "\n",
    "    done = False\n",
    "    while not done:\n",
    "        start_time = time.time()\n",
    "\n",
    "        if random_act:\n",
    "            act = env.action_space.sample()\n",
    "        else:\n",
    "#             act = algorithm.policy_module(state).item()\n",
    "            act = algorithm.policy_module.net(state).argmax(1).item()\n",
    "        action_logits.append(algorithm.policy_module.net(state).detach())\n",
    "\n",
    "        action = algorithm._action_onehot(torch.tensor(act).reshape(1, 1))\n",
    "        action.requires_grad = True\n",
    "        action.retain_grad()\n",
    "        state.retain_grad()\n",
    "\n",
    "        next_state, reward, done, _ = env.step(act)\n",
    "        next_state = to_torch(next_state)\n",
    "        \n",
    "        state = state.detach()\n",
    "        state.requires_grad = True\n",
    "        state.retain_grad()\n",
    "\n",
    "        r_state_list.append(state)\n",
    "        r_action_list.append(action)\n",
    "        \n",
    "#         state = GradNormalizer.apply(state)\n",
    "\n",
    "        dist = algorithm.transition_module.dist(state, action)\n",
    "        transition_mae.append((dist.loc - next_state).abs().detach())\n",
    "        next_state = algorithm.transition_module.reparam(\n",
    "            next_state, dist)\n",
    "        expected_reward = algorithm._expected_reward(\n",
    "                env.reward_info(), next_state)\n",
    "        reward_list.append(expected_reward)\n",
    "        \n",
    "        state = next_state\n",
    "        if render:\n",
    "            env.render()\n",
    "            time.sleep(abs(1/FPS - (time.time() - start_time)))\n",
    "        \n",
    "    sum(reward_list).backward()\n",
    "#     reward_list[-1].backward()\n",
    "    \n",
    "    return r_state_list, r_action_list, reward_list, transition_mae, action_logits\n",
    "\n",
    "states, actions, rewards, trans_mae, act_logits = episode_grad()\n",
    "eps_act_logit = torch.cat(act_logits, dim=0)\n",
    "eps_trans_mae = torch.cat(trans_mae, dim=0) \n",
    "eps_acts_grad = torch.cat(list(map(lambda act: act.grad, actions)), dim=0)\n",
    "eps_state_grad = torch.cat(list(map(lambda state: state.grad, states)), dim=0)\n",
    "\n"
   ]
  },
  {
   "cell_type": "code",
   "execution_count": null,
   "metadata": {},
   "outputs": [],
   "source": [
    "plt.figure(figsize=(16, 7))\n",
    "\n",
    "plt.subplot(141)\n",
    "plt.imshow(eps_acts_grad)\n",
    "plt.title(\"Action Gradients\")\n",
    "plt.colorbar()\n",
    "\n",
    "plt.subplot(142)\n",
    "plt.imshow(eps_state_grad)\n",
    "plt.title(\"State Gradients\")\n",
    "plt.colorbar()\n",
    "\n",
    "plt.subplot(143)\n",
    "plt.imshow(eps_trans_mae)\n",
    "plt.title(\"Transition MAE\")\n",
    "plt.colorbar()\n",
    "\n",
    "plt.subplot(144)\n",
    "plt.imshow(eps_act_logit)\n",
    "plt.title(\"Action Logits\")\n",
    "plt.colorbar()\n",
    "\n",
    "# [s[0, 3].item() - s[0, 0].item() for s in states]\n",
    "# (eps_state_grad[:, 0] > 0).float().mean()"
   ]
  },
  {
   "cell_type": "code",
   "execution_count": null,
   "metadata": {
    "scrolled": false
   },
   "outputs": [],
   "source": [
    "render_layout(\n",
    "    log_dir=args[\"log_dir\"],\n",
    "    layout=[[\"S\", \"S\"], [\"H\", \"H\"]]\n",
    ")"
   ]
  },
  {
   "cell_type": "markdown",
   "metadata": {},
   "source": [
    "# JACOBIAN TIME"
   ]
  },
  {
   "cell_type": "code",
   "execution_count": null,
   "metadata": {
    "scrolled": false
   },
   "outputs": [],
   "source": [
    "state = states[-40].detach()\n",
    "act = 0\n",
    "\n",
    "n_state = env.observation_space.shape[0]\n",
    "\n",
    "act = algorithm._action_onehot(torch.tensor(act).reshape(1, 1))\n",
    "\n",
    "state.requires_grad = True\n",
    "state.retain_grad()\n",
    "\n",
    "act.requires_grad = True\n",
    "act.retain_grad()\n",
    "\n",
    "jac_state = torch.zeros((n_state, n_state))\n",
    "jac_action = torch.zeros((n_state, 3))\n",
    "\n",
    "\n",
    "mean, std = algorithm.transition_module(state, act)\n",
    "for ix in range(n_state):\n",
    "    mean[0, ix].backward(retain_graph=True)\n",
    "    \n",
    "    \n",
    "    jac_state[ix, :] = state.grad[0]\n",
    "    jac_action[ix, :] = act.grad[0]\n",
    "\n",
    "    state.grad.zero_()\n",
    "    act.grad.zero_()\n",
    "    \n",
    "plt.figure(figsize=(15, 5))\n",
    "plt.subplot(131)\n",
    "plt.imshow(jac_state.detach())\n",
    "plt.colorbar()\n",
    "plt.yticks(np.arange(6), [\"player_y\",\"enemy_y\",\"ball_x\",\"ball_y\",\"ball_x_prime\",\"ball_y_prime\"])\n",
    "plt.xticks(np.arange(6), [\"player_y\",\"enemy_y\",\"ball_x\",\"ball_y\",\"ball_x_prime\",\"ball_y_prime\"], rotation=90)\n",
    "plt.title(\"State Jac\") \n",
    "\n",
    "plt.subplot(132)\n",
    "plt.imshow(jac_action.detach())\n",
    "plt.yticks(np.arange(6), [\"player_y\",\"enemy_y\",\"ball_x\",\"ball_y\",\"ball_x_prime\",\"ball_y_prime\"])\n",
    "plt.colorbar()\n",
    "plt.title(\"Action Jac\") \n",
    "\n",
    "plt.subplot(133)\n",
    "plt.bar(np.arange(6), state[0].detach().numpy())\n",
    "plt.xticks(np.arange(6), [\"player_y\",\"enemy_y\",\"ball_x\",\"ball_y\",\"ball_x_prime\",\"ball_y_prime\"], rotation=90)\n",
    "plt.title(\"state\")\n"
   ]
  },
  {
   "cell_type": "code",
   "execution_count": null,
   "metadata": {},
   "outputs": [],
   "source": [
    "__next_state = torch.tensor([[0.1, 0.1, 0.1999, 0.1, 0.1, 0.1]])\n",
    "__next_state.requires_grad = True\n",
    "__next_state.retain_grad()\n",
    "algorithm._expected_reward(algorithm.reward_vals, __next_state).sum().backward()\n",
    "__next_state.grad"
   ]
  },
  {
   "cell_type": "code",
   "execution_count": null,
   "metadata": {},
   "outputs": [],
   "source": [
    "pathname = \"/Users/tolga/remote/research/tolga/Modular-Baselines/modular_baselines/vca/pong/logs/01-19-2021-01-31-55/01-19-2021-01-31-55-248175/1\""
   ]
  },
  {
   "cell_type": "code",
   "execution_count": null,
   "metadata": {},
   "outputs": [],
   "source": [
    "render_layout(\n",
    "    log_dir=pathname,\n",
    "    layout=[[\"S\", \"S\"], [\"H\", \"H\"]]\n",
    ")"
   ]
  },
  {
   "cell_type": "markdown",
   "metadata": {},
   "source": [
    "## Notes\n",
    "- More state features & A2C training\n",
    "- Pong Hyper optimization\n",
    "- Maze comparison & experiments"
   ]
  },
  {
   "cell_type": "code",
   "execution_count": null,
   "metadata": {},
   "outputs": [],
   "source": [
    "from environment import PongEnv\n",
    "env = PongEnv()\n",
    "env.pong_env.unwrapped.get_action_meanings()\n"
   ]
  }
 ],
 "metadata": {
  "kernelspec": {
   "display_name": "Python 3",
   "language": "python",
   "name": "python3"
  },
  "language_info": {
   "codemirror_mode": {
    "name": "ipython",
    "version": 3
   },
   "file_extension": ".py",
   "mimetype": "text/x-python",
   "name": "python",
   "nbconvert_exporter": "python",
   "pygments_lexer": "ipython3",
   "version": "3.8.3"
  }
 },
 "nbformat": 4,
 "nbformat_minor": 4
}
